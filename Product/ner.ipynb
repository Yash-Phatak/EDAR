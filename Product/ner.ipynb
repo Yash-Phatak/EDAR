{
 "cells": [
  {
   "cell_type": "code",
   "execution_count": 4,
   "metadata": {},
   "outputs": [
    {
     "data": {
      "text/html": [
       "<span class=\"tex2jax_ignore\"><div class=\"entities\" style=\"line-height: 2.5; direction: ltr\">Dell laptops named TRA's 2024 Most Desired Brand, iPhone &amp; \n",
       "<mark class=\"entity\" style=\"background: #ddd; padding: 0.45em 0.6em; margin: 0 0.25em; line-height: 1; border-radius: 0.35em;\">\n",
       "    Titan\n",
       "    <span style=\"font-size: 0.8em; font-weight: bold; line-height: 1; border-radius: 0.35em; vertical-align: middle; margin-left: 0.5rem\">BRAND</span>\n",
       "</mark>\n",
       " follow</div></span>"
      ],
      "text/plain": [
       "<IPython.core.display.HTML object>"
      ]
     },
     "metadata": {},
     "output_type": "display_data"
    },
    {
     "data": {
      "text/html": [
       "<span class=\"tex2jax_ignore\"><div class=\"entities\" style=\"line-height: 2.5; direction: ltr\">The list of the top five most desired brands is headed by \n",
       "<mark class=\"entity\" style=\"background: #ddd; padding: 0.45em 0.6em; margin: 0 0.25em; line-height: 1; border-radius: 0.35em;\">\n",
       "    Dell Laptops\n",
       "    <span style=\"font-size: 0.8em; font-weight: bold; line-height: 1; border-radius: 0.35em; vertical-align: middle; margin-left: 0.5rem\">BRAND</span>\n",
       "</mark>\n",
       ", with Apple iPhone making an impressive rise of three spots to claim second place. \n",
       "<mark class=\"entity\" style=\"background: #ddd; padding: 0.45em 0.6em; margin: 0 0.25em; line-height: 1; border-radius: 0.35em;\">\n",
       "    Titan\n",
       "    <span style=\"font-size: 0.8em; font-weight: bold; line-height: 1; border-radius: 0.35em; vertical-align: middle; margin-left: 0.5rem\">BRAND</span>\n",
       "</mark>\n",
       " Watches holds the third position, while Sony Televisions saw a substantial jump, moving from eleventh to fourth. Life Insurance Corporation of India (LIC) completes the top five, advancing by \n",
       "<mark class=\"entity\" style=\"background: #ddd; padding: 0.45em 0.6em; margin: 0 0.25em; line-height: 1; border-radius: 0.35em;\">\n",
       "    eight\n",
       "    <span style=\"font-size: 0.8em; font-weight: bold; line-height: 1; border-radius: 0.35em; vertical-align: middle; margin-left: 0.5rem\">BRAND</span>\n",
       "</mark>\n",
       " ranks within the banking, financial services, and insurance (BFSI) sector. Significant advancements were also made by Honda Motorcycles and Maruti Suzuki, which climbed 32 and 26 ranks, respectively, to secure spots in the top ten.</div></span>"
      ],
      "text/plain": [
       "<IPython.core.display.HTML object>"
      ]
     },
     "metadata": {},
     "output_type": "display_data"
    },
    {
     "name": "stdout",
     "output_type": "stream",
     "text": [
      "Detected Brands:  ['Titan', 'Dell Laptops', 'Titan', 'eight']\n"
     ]
    }
   ],
   "source": [
    "import spacy\n",
    "import warnings\n",
    "import pandas as pd\n",
    "import spacy.displacy \n",
    "warnings.filterwarnings('ignore')\n",
    "\n",
    "nlp  = spacy.load('ner_amazon_embeddings_1\\model-best')\n",
    "\n",
    "texts = [\"Dell laptops named TRA's 2024 Most Desired Brand, iPhone & Titan follow\",\"The list of the top five most desired brands is headed by Dell Laptops, with Apple iPhone making an impressive rise of three spots to claim second place. Titan Watches holds the third position, while Sony Televisions saw a substantial jump, moving from eleventh to fourth. Life Insurance Corporation of India (LIC) completes the top five, advancing by eight ranks within the banking, financial services, and insurance (BFSI) sector. Significant advancements were also made by Honda Motorcycles and Maruti Suzuki, which climbed 32 and 26 ranks, respectively, to secure spots in the top ten.\"]\n",
    "brands  = []\n",
    "\n",
    "for text in texts:\n",
    "    doc =  nlp(text)\n",
    "    spacy.displacy.render(doc,style = \"ent\",jupyter=True)\n",
    "    for ent in doc.ents:\n",
    "        if ent.label_ == 'BRAND':\n",
    "            brands.append(ent.text)\n",
    "\n",
    "print(\"Detected Brands: \",brands)\n"
   ]
  },
  {
   "cell_type": "code",
   "execution_count": 2,
   "metadata": {},
   "outputs": [],
   "source": [
    "from transformers import pipeline\n",
    "import torch\n",
    "import json\n",
    "import re"
   ]
  },
  {
   "cell_type": "code",
   "execution_count": 3,
   "metadata": {},
   "outputs": [
    {
     "name": "stderr",
     "output_type": "stream",
     "text": [
      "Some weights of the model checkpoint at dbmdz/bert-large-cased-finetuned-conll03-english were not used when initializing BertForTokenClassification: ['bert.pooler.dense.bias', 'bert.pooler.dense.weight']\n",
      "- This IS expected if you are initializing BertForTokenClassification from the checkpoint of a model trained on another task or with another architecture (e.g. initializing a BertForSequenceClassification model from a BertForPreTraining model).\n",
      "- This IS NOT expected if you are initializing BertForTokenClassification from the checkpoint of a model that you expect to be exactly identical (initializing a BertForSequenceClassification model from a BertForSequenceClassification model).\n"
     ]
    }
   ],
   "source": [
    "# Initialise the ner pipeline for the pre trained model\n",
    "ner_pipeline = pipeline(\"ner\", model=\"dbmdz/bert-large-cased-finetuned-conll03-english\")"
   ]
  },
  {
   "cell_type": "code",
   "execution_count": null,
   "metadata": {},
   "outputs": [],
   "source": [
    "def extract_entities(paragraph):\n",
    "    entities = ner_pipeline(paragraph)\n",
    "    products = []\n",
    "    locations = []\n",
    "    events = []\n",
    "    dates = []\n",
    "    \n",
    "    for entity in entities:\n",
    "        # Extract specific entity types\n",
    "        if entity['entity'] == \"B-PRODUCT\":  # Assuming \"PRODUCT\" is a custom label\n",
    "            products.append(entity['word'])\n",
    "        elif entity['entity'] == \"B-LOC\":\n",
    "            locations.append(entity['word'])\n",
    "        elif entity['entity'] == \"B-MISC\":  # Used for events in some models\n",
    "            events.append(entity['word'])\n",
    "        elif entity['entity'] == \"B-DATE\":\n",
    "            dates.append(entity['word'])\n",
    "    \n",
    "    return {\n",
    "        \"products\": products,\n",
    "        \"locations\": locations,\n",
    "        \"events\": events,\n",
    "        \"dates\": dates\n",
    "    }\n"
   ]
  },
  {
   "cell_type": "code",
   "execution_count": null,
   "metadata": {},
   "outputs": [],
   "source": [
    "import spacy\n",
    "\n",
    "def extract_entities_spacy(paragraph):\n",
    "    # Use spaCy's larger pre-trained NER model\n",
    "    nlp = spacy.load(\"en_core_web_lg\")\n",
    "    \n",
    "    # Process the input paragraph\n",
    "    doc = nlp(paragraph)\n",
    "    \n",
    "    entities = {\n",
    "        \"brands\": [],\n",
    "        \"products\": [],\n",
    "        \"locations\": [],\n",
    "        \"events\": [],\n",
    "        \"dates\": []\n",
    "    }\n",
    "    \n",
    "    for ent in doc.ents:\n",
    "        # Extract specific entity types\n",
    "        if ent.label_ == \"PRODUCT\":\n",
    "            entities[\"products\"].append(ent.text)\n",
    "        elif ent.label_ == \"ORG\":\n",
    "            entities[\"brands\"].append(ent.text)\n",
    "        elif ent.label_ == \"GPE\":\n",
    "            entities[\"locations\"].append(ent.text)\n",
    "        elif ent.label_ == \"EVENT\":\n",
    "            entities[\"events\"].append(ent.text)\n",
    "        elif ent.label_ == \"DATE\":\n",
    "            entities[\"dates\"].append(ent.text)\n",
    "    \n",
    "    # Normalize and deduplicate entity values\n",
    "    for key, values in entities.items():\n",
    "        entities[key] = list(set([\n",
    "            re.sub(r'\\W+', ' ', item).strip() \n",
    "            for item in values``\n",
    "        ]))\n",
    "    \n",
    "    return entities"
   ]
  },
  {
   "cell_type": "code",
   "execution_count": 16,
   "metadata": {},
   "outputs": [
    {
     "data": {
      "text/plain": [
       "{'brands': ['Maruti', 'sub 4m'],\n",
       " 'products': ['Dzire', 'Swift'],\n",
       " 'locations': [],\n",
       " 'events': [],\n",
       " 'dates': ['tomorrow', 'fourth gen']}"
      ]
     },
     "execution_count": 16,
     "metadata": {},
     "output_type": "execute_result"
    }
   ],
   "source": [
    "paragraph = \"The Dzire will continue to be Maruti’s entry-level sedan offering.It gets a fresh face, all-LED lighting, and 15-inch dual-tone alloy wheels.Cabin highlights include dual-tone theme and a flat-bottom steering wheel.New features on board include a 9-inch touchscreen, sunroof, and a 360-degree camera.To be powered by the new Swift’s 1.2-litre, 3-cylinder petrol engine; will be offered with a CNG option as well.Expected to be priced from Rs 6.70 lakh (ex-showroom).One of the most popular sub-4m sedans in our market, the Maruti Dzire, is set to receive a generation update. It was spotted earlier completely undisguised, showing a distinct styling from the fourth-gen Swift. The carmaker has also opened its bookings, ahead of its scheduled launch tomorrow. If you are planning to buy it, here’s a recap of everything we know:\"\n",
    "extract_entities_spacy(paragraph)"
   ]
  },
  {
   "cell_type": "code",
   "execution_count": null,
   "metadata": {},
   "outputs": [],
   "source": [
    "def recommend_products_from_news(paragraph):\n",
    "    # Perform NER and sentiment analysis\n",
    "    sentiment_score, confidence = get_sentiment_score(paragraph)\n",
    "    entities = extract_entities(paragraph)\n",
    "    \n",
    "    # Check if sentiment is positive (arbitrary threshold, e.g., score >= 4 for positive)\n",
    "    if sentiment_score >= 4:\n",
    "        recommendation_data = {\n",
    "            \"text\": paragraph,\n",
    "            \"recommended_products\": entities[\"products\"],\n",
    "            \"locations\": entities[\"locations\"],\n",
    "            \"sentiment_score\": sentiment_score,\n",
    "            \"confidence\": confidence\n",
    "        }\n",
    "        \n",
    "        # Convert to JSON format for easy storage or display\n",
    "        return json.dumps(recommendation_data, indent=4)\n",
    "    else:\n",
    "        return \"No recommendations as the sentiment is not positive.\"\n",
    "\n",
    "# Sample usage with a paragraph of a news article\n",
    "paragraph = \"\"\"\n",
    "The new smartphone by XYZ Corp has taken the market by storm. With advanced AI capabilities and a sleek design, it's popular in New York and Los Angeles. \n",
    "Many users are thrilled with the product's performance.\n",
    "\"\"\"\n",
    "\n",
    "# Get recommendation\n",
    "recommendation_json = recommend_products_from_news(paragraph)\n",
    "print(recommendation_json)\n"
   ]
  }
 ],
 "metadata": {
  "kernelspec": {
   "display_name": "Python 3",
   "language": "python",
   "name": "python3"
  },
  "language_info": {
   "codemirror_mode": {
    "name": "ipython",
    "version": 3
   },
   "file_extension": ".py",
   "mimetype": "text/x-python",
   "name": "python",
   "nbconvert_exporter": "python",
   "pygments_lexer": "ipython3",
   "version": "3.11.3"
  }
 },
 "nbformat": 4,
 "nbformat_minor": 2
}
