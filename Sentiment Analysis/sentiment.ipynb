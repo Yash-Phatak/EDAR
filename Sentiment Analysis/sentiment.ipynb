{
 "cells": [
  {
   "cell_type": "markdown",
   "metadata": {},
   "source": [
    "# Install and Import Dependencies"
   ]
  },
  {
   "cell_type": "code",
   "execution_count": 5,
   "metadata": {},
   "outputs": [],
   "source": [
    "from transformers import AutoTokenizer , AutoModelForSequenceClassification\n",
    "import torch\n",
    "import requests\n",
    "from bs4 import BeautifulSoup\n",
    "import re\n",
    "import json"
   ]
  },
  {
   "cell_type": "markdown",
   "metadata": {},
   "source": [
    "# Instantiate the model"
   ]
  },
  {
   "cell_type": "code",
   "execution_count": 2,
   "metadata": {},
   "outputs": [],
   "source": [
    "tokenizer = AutoTokenizer.from_pretrained('nlptown/bert-base-multilingual-uncased-sentiment')\n",
    "\n",
    "model = AutoModelForSequenceClassification.from_pretrained('nlptown/bert-base-multilingual-uncased-sentiment')"
   ]
  },
  {
   "cell_type": "code",
   "execution_count": 7,
   "metadata": {},
   "outputs": [],
   "source": [
    "paragraph = \"\"\"\n",
    "Ola EV have shown faults consistently resulting to a fall in their sales.\n",
    "\"\"\"\n",
    "\n",
    "# Tokenize and encode the paragraph for the model\n",
    "inputs = tokenizer(paragraph, return_tensors=\"pt\")\n"
   ]
  },
  {
   "cell_type": "code",
   "execution_count": 8,
   "metadata": {},
   "outputs": [],
   "source": [
    "# Get model outputs\n",
    "outputs = model(**inputs)\n",
    "scores = outputs.logits\n",
    "\n",
    "# Apply softmax to convert logits to probabilities\n",
    "probs = torch.nn.functional.softmax(scores, dim=1)\n",
    "predicted_class = torch.argmax(probs, dim=1).item()  # Get the class with the highest probability\n",
    "\n",
    "# Convert the class to a human-readable sentiment score (e.g., 1-5 stars)\n",
    "sentiment_score = predicted_class + 1  # Add 1 because classes are 0-indexed\n",
    "confidence = probs[0][predicted_class].item()  # Confidence score for the predicted class\n"
   ]
  },
  {
   "cell_type": "code",
   "execution_count": 9,
   "metadata": {},
   "outputs": [
    {
     "name": "stdout",
     "output_type": "stream",
     "text": [
      "{\n",
      "    \"text\": \"\\nOla EV have shown faults consistently resulting to a fall in their sales.\\n\",\n",
      "    \"sentiment_score\": 1,\n",
      "    \"confidence\": 0.454799622297287\n",
      "}\n"
     ]
    }
   ],
   "source": [
    "# Store results in a dictionary\n",
    "sentiment_data = {\n",
    "    \"text\": paragraph,\n",
    "    \"sentiment_score\": sentiment_score,\n",
    "    \"confidence\": confidence\n",
    "}\n",
    "\n",
    "# Convert to JSON\n",
    "sentiment_json = json.dumps(sentiment_data, indent=4)\n",
    "\n",
    "# Display the JSON result\n",
    "print(sentiment_json)\n"
   ]
  }
 ],
 "metadata": {
  "kernelspec": {
   "display_name": "Python 3",
   "language": "python",
   "name": "python3"
  },
  "language_info": {
   "codemirror_mode": {
    "name": "ipython",
    "version": 3
   },
   "file_extension": ".py",
   "mimetype": "text/x-python",
   "name": "python",
   "nbconvert_exporter": "python",
   "pygments_lexer": "ipython3",
   "version": "3.11.3"
  }
 },
 "nbformat": 4,
 "nbformat_minor": 2
}
